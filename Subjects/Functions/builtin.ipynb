{
 "cells": [
  {
   "cell_type": "markdown",
   "metadata": {},
   "source": [
    "### Built-in functions\n",
    "They are functions that are always available in python.\n",
    "\n",
    "Built-in functions are loaded by default when you start a Python interpreter.\n",
    "\n",
    "https://docs.python.org/3.11/library/functions.html "
   ]
  },
  {
   "cell_type": "code",
   "execution_count": 1,
   "metadata": {},
   "outputs": [],
   "source": [
    "# Data type conversion\n",
    "age_str = \"30\"\n",
    "age_int = int(age_str) # 30\n",
    "pi_str = \"3.14159\"\n",
    "pi_float = float(pi_str) # 3.14159\n",
    "number = 100 \n",
    "number_str = str(number) # \"100\""
   ]
  },
  {
   "cell_type": "code",
   "execution_count": 2,
   "metadata": {},
   "outputs": [],
   "source": [
    "# Math and Numerical\n",
    "absolute_value = abs(-10) # 10\n",
    "power = pow(2, 3) # 8\n",
    "rounded = round(3.14159) # 3\n",
    "q, r = divmod(10, 3) # 3, 1\n",
    "quotient = 10 // 3 # 3\n",
    "remainder = 10 % 3 # 1\n",
    "power_val = pow(2, 3) # 8"
   ]
  },
  {
   "cell_type": "code",
   "execution_count": 3,
   "metadata": {},
   "outputs": [
    {
     "name": "stdout",
     "output_type": "stream",
     "text": [
      "22\n",
      "5\n"
     ]
    }
   ],
   "source": [
    "numbers = [10, 5, 8, 22]\n",
    "print(max(numbers))  # 22\n",
    "print(min(numbers))  # 5\n"
   ]
  },
  {
   "cell_type": "code",
   "execution_count": 4,
   "metadata": {},
   "outputs": [
    {
     "name": "stdout",
     "output_type": "stream",
     "text": [
      "3\n"
     ]
    }
   ],
   "source": [
    "my_list = [1, 2, 3]\n",
    "print(len(my_list))  # 3\n"
   ]
  },
  {
   "cell_type": "code",
   "execution_count": 5,
   "metadata": {},
   "outputs": [],
   "source": [
    "numbers = [1, 2, 3, 4]\n",
    "total = sum(numbers)  # 10\n",
    "\n",
    "words = [\"apple\", \"banana\", \"cherry\"]\n",
    "sorted_words = sorted(words, reverse=True)  # ['cherry', 'banana', 'apple']"
   ]
  },
  {
   "cell_type": "code",
   "execution_count": null,
   "metadata": {},
   "outputs": [],
   "source": [
    "# Object Introspection and Utilities\n",
    "print(type(42))       # <class 'int'>\n",
    "print(type(\"Hello\"))  # <class 'str'>\n",
    "\n",
    "print(isinstance(5, int))          # True\n",
    "print(isinstance(\"hi\", (int, str)))# True\n",
    "\n",
    "my_var = 10\n",
    "print(id(my_var))  # Address (implementation-dependent)\n",
    "\n",
    "print(dir())        # Names in current scope\n",
    "print(dir(str))     # Valid attributes/methods for strings\n",
    "\n",
    "help(len)\n",
    "help(\"str\")  # Alternatively, help(str)"
   ]
  },
  {
   "cell_type": "code",
   "execution_count": 7,
   "metadata": {},
   "outputs": [],
   "source": [
    "# Functional Programming Helpers\n",
    "\n",
    "number = [1, 2, 3, 4, 5]\n",
    "squares = list(map(lambda x: x**2, number))  # [1, 4, 9, 16, 25]"
   ]
  },
  {
   "cell_type": "code",
   "execution_count": 8,
   "metadata": {},
   "outputs": [],
   "source": [
    "numbers = [1, 2, 3, 4]\n",
    "evens = list(filter(lambda x: x % 2 == 0, numbers))  # [2, 4]\n",
    "\n",
    "# zip(*iterables): Returns an iterator of tuples, where the i-th tuple contains the i-th element from each iterable.\n",
    "list1 = [1, 2, 3]\n",
    "list2 = [\"a\", \"b\", \"c\"]\n",
    "zipped = list(zip(list1, list2))  # [(1, 'a'), (2, 'b'), (3, 'c')]\n"
   ]
  }
 ],
 "metadata": {
  "kernelspec": {
   "display_name": "Python 3",
   "language": "python",
   "name": "python3"
  },
  "language_info": {
   "codemirror_mode": {
    "name": "ipython",
    "version": 3
   },
   "file_extension": ".py",
   "mimetype": "text/x-python",
   "name": "python",
   "nbconvert_exporter": "python",
   "pygments_lexer": "ipython3",
   "version": "3.11.9"
  }
 },
 "nbformat": 4,
 "nbformat_minor": 2
}
