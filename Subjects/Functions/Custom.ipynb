{
 "cells": [
  {
   "cell_type": "markdown",
   "metadata": {},
   "source": [
    "### Custom funcitons\n",
    "\n",
    "In Python, you define a function using the def keyword followed by the function name and parentheses containing any parameters. The function body is indented (by four spaces, typically) and may include a return statement to send a result back to the caller."
   ]
  },
  {
   "cell_type": "code",
   "execution_count": 1,
   "metadata": {},
   "outputs": [
    {
     "name": "stdout",
     "output_type": "stream",
     "text": [
      "Hello, world!\n"
     ]
    }
   ],
   "source": [
    "def greet():\n",
    "    \"\"\"\n",
    "    A simple functon with no parameters that returns a greeting.\n",
    "    \"\"\"\n",
    "    print(\"Hello, world!\")\n",
    "\n",
    "# Calling the function\n",
    "greet()"
   ]
  },
  {
   "cell_type": "code",
   "execution_count": 2,
   "metadata": {},
   "outputs": [
    {
     "name": "stdout",
     "output_type": "stream",
     "text": [
      "Hello, Alice!\n"
     ]
    }
   ],
   "source": [
    "def greet_name(name):\n",
    "    \"\"\"\n",
    "    A simple function that takes a name as a parameter and returns a greeting.\n",
    "    \"\"\"\n",
    "    print(f\"Hello, {name}!\")\n",
    "\n",
    "# Calling the function\n",
    "greet_name(\"Alice\")"
   ]
  },
  {
   "cell_type": "code",
   "execution_count": 4,
   "metadata": {},
   "outputs": [
    {
     "name": "stdout",
     "output_type": "stream",
     "text": [
      "Hello, world!\n",
      "Hello, Bob!\n"
     ]
    }
   ],
   "source": [
    "def greet_someone(name=\"world\"):\n",
    "    \"\"\"\n",
    "    A simple function that takes a name as a parameter and returns a greeting.\n",
    "    If no name is provided, it will default to \"world\".\n",
    "    \"\"\"\n",
    "    print(f\"Hello, {name}!\")\n",
    "\n",
    "greet_someone()\n",
    "greet_someone(\"Bob\")"
   ]
  },
  {
   "cell_type": "code",
   "execution_count": 5,
   "metadata": {},
   "outputs": [
    {
     "name": "stdout",
     "output_type": "stream",
     "text": [
      "Name: Eve, Age: 25, Location: Canada\n",
      "Name: John, Age: 45, Location: UK\n"
     ]
    }
   ],
   "source": [
    "def describe_person(name, age=30, location=\"USA\"):\n",
    "    print(f\"Name: {name}, Age: {age}, Location: {location}\")\n",
    "\n",
    "# Using positional arguments:\n",
    "describe_person(\"Eve\", 25, \"Canada\")  \n",
    "# Output: Name: Eve, Age: 25, Location: Canada\n",
    "\n",
    "# Using keyword arguments in any order:\n",
    "describe_person(location=\"UK\", name=\"John\", age=45)\n",
    "# Output: Name: John, Age: 45, Location: UK\n"
   ]
  },
  {
   "cell_type": "code",
   "execution_count": 6,
   "metadata": {},
   "outputs": [
    {
     "name": "stdout",
     "output_type": "stream",
     "text": [
      "8\n"
     ]
    }
   ],
   "source": [
    "def add_number(a, b):\n",
    "    \"\"\" Returns the sum of a and b \"\"\"\n",
    "    return a + b\n",
    "\n",
    "result = add_number(3, 5)\n",
    "\n",
    "print(result)"
   ]
  },
  {
   "cell_type": "markdown",
   "metadata": {},
   "source": [
    "### Variable-Length Arguments *args and **kwargs\n",
    "\n",
    "Sometimes you dont know how many arguments your function will receive. Python support variable length arguments in two ways:\n",
    "1. *args (non-keyworded) - Tuple of additional positional arguments\n",
    "2. **kwards (Keyworded) - a dictionary of additional keyword arguments"
   ]
  },
  {
   "cell_type": "code",
   "execution_count": 7,
   "metadata": {},
   "outputs": [
    {
     "name": "stdout",
     "output_type": "stream",
     "text": [
      "Positional arguments: (1, 2, 3, 'Hello')\n",
      "Keyword arguments: {'name': 'Alice', 'age': 25, 'country': 'USA'}\n"
     ]
    }
   ],
   "source": [
    "def print_args(*args):\n",
    "    \"\"\" Accepts any number of positional arguments \"\"\"\n",
    "    print(\"Positional arguments:\", args)\n",
    "\n",
    "def print_kwargs(**kwargs):\n",
    "    \"\"\"\n",
    "    Accepts any number of keyword arguments, accessible as a dictionary.\n",
    "    \"\"\"\n",
    "    print(\"Keyword arguments:\", kwargs)\n",
    "\n",
    "# Example\n",
    "print_args(1, 2, 3, \"Hello\")\n",
    "\n",
    "print_kwargs(name=\"Alice\", age=25, country=\"USA\")"
   ]
  },
  {
   "cell_type": "code",
   "execution_count": 11,
   "metadata": {},
   "outputs": [
    {
     "name": "stdout",
     "output_type": "stream",
     "text": [
      "a: 10, b: 220\n",
      "args: (23232, 30, 40, 50)\n",
      "kwargs: {'key1': 'value1', 'key2': 'value2'}\n"
     ]
    }
   ],
   "source": [
    "# With normal parameters\n",
    "\n",
    "def example_function(a, b, *args, **kwargs):\n",
    "    print(f\"a: {a}, b: {b}\")\n",
    "    print(\"args:\", args)\n",
    "    print(\"kwargs:\", kwargs)\n",
    "\n",
    "example_function(10, 220, 23232, 30, 40, 50, key1=\"value1\", key2=\"value2\")"
   ]
  },
  {
   "cell_type": "code",
   "execution_count": 13,
   "metadata": {},
   "outputs": [
    {
     "name": "stdout",
     "output_type": "stream",
     "text": [
      "Name: Alice, Age: 25, Location: Wonderland\n"
     ]
    }
   ],
   "source": [
    "def display_info(name, age, location):\n",
    "    print(f\"Name: {name}, Age: {age}, Location: {location}\")\n",
    "\n",
    "my_list = [\"Alice\", 25, \"Wonderland\"]\n",
    "display_info(*my_list)\n",
    "# Equivalent to calling display_info(\"Alice\", 25, \"Wonderland\")"
   ]
  },
  {
   "cell_type": "code",
   "execution_count": null,
   "metadata": {},
   "outputs": [],
   "source": []
  }
 ],
 "metadata": {
  "kernelspec": {
   "display_name": "Python 3",
   "language": "python",
   "name": "python3"
  },
  "language_info": {
   "codemirror_mode": {
    "name": "ipython",
    "version": 3
   },
   "file_extension": ".py",
   "mimetype": "text/x-python",
   "name": "python",
   "nbconvert_exporter": "python",
   "pygments_lexer": "ipython3",
   "version": "3.11.9"
  }
 },
 "nbformat": 4,
 "nbformat_minor": 2
}
