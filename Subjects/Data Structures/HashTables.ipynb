{
 "cells": [
  {
   "cell_type": "markdown",
   "metadata": {},
   "source": []
  },
  {
   "cell_type": "markdown",
   "metadata": {},
   "source": [
    "### Hash Tables\n",
    "\n",
    "Hash tables are fundamental data structures that provides efficient key-value storage and retrieval. They work by using a hash function to compute an index into an array of buckets or slets, from which the desired value can be found."
   ]
  },
  {
   "cell_type": "markdown",
   "metadata": {},
   "source": [
    "Core concept:\n",
    "1. Convert keys into an integer index.\n",
    "The same key always produces the same hash\n",
    "Ideally, it distributes keys evenly across the available slots creating a uniform distribution.\n",
    "The function should compute hashes quickly\n",
    "\n",
    "2. The computed hash directs the lookup to a particular bucket or slot in an underlying array.\n",
    "Multiple keys might hash to the same bucket, leading to collisions.\n",
    "\n",
    "3. Collision resolution\n",
    "Chaining: Each bucket contains a linked list of all key-value pairs that hashed to that index.\n",
    "Open addressing: When a collision occurs, the algorithm searches for the next free slot using a method like linear probing."
   ]
  },
  {
   "cell_type": "markdown",
   "metadata": {},
   "source": [
    "In python dictionaries are highly optimized implementation of a hash table.\n",
    "\n",
    "Python's set is also implemented as a hash table. It only stores unique keys without associated values, making it very efficient for membership tests."
   ]
  },
  {
   "cell_type": "code",
   "execution_count": 2,
   "metadata": {},
   "outputs": [
    {
     "name": "stdout",
     "output_type": "stream",
     "text": [
      "2\n"
     ]
    }
   ],
   "source": [
    "# Creating and using a Python dictionary:\n",
    "my_dict = {\"apple\": 1, \"banana\": 2, \"cherry\": 3}\n",
    "print(my_dict[\"banana\"])  # Output: 2\n",
    "\n",
    "# Inserting a new key-value pair:\n",
    "my_dict[\"date\"] = 4\n"
   ]
  },
  {
   "cell_type": "code",
   "execution_count": 1,
   "metadata": {},
   "outputs": [
    {
     "name": "stdout",
     "output_type": "stream",
     "text": [
      "3 is in the set\n"
     ]
    }
   ],
   "source": [
    "my_set = {1, 2, 3, 4}\n",
    "if 3 in my_set:\n",
    "    print(\"3 is in the set\")"
   ]
  },
  {
   "cell_type": "markdown",
   "metadata": {},
   "source": [
    "### Contrarian and Non-Obvious Insights\n",
    "1. Predictability vs. Security:\n",
    "\n",
    "While hash tables offer excellent performance for most applications, the predictability of hash functions can become a liability in security-sensitive contexts (e.g., hash flooding attacks). In such cases, randomized hash functions or alternative data structures may be used to mitigate potential vulnerabilities.\n",
    "\n",
    "2. Memory Overhead and Cache Performance:\n",
    "\n",
    "Hash tables typically require extra memory for storing pointers and managing collisions (e.g., in chaining). Although the average time complexity is \n",
    "𝑂\n",
    "(\n",
    "1\n",
    ")\n",
    "O(1), this extra memory and the non-contiguous memory access patterns can lead to cache misses, which might affect performance in high-throughput applications.\n",
    "\n",
    "3. Alternative Data Structures:\n",
    "\n",
    "Depending on the use case, other data structures like balanced binary search trees (e.g., red-black trees) might be preferred, especially when order matters or when worst-case guarantees are critical. For instance, Java’s TreeMap maintains order at the cost of \n",
    "𝑂\n",
    "(\n",
    "log\n",
    "⁡\n",
    "𝑛\n",
    ")\n",
    "O(logn) operations.\n",
    "\n",
    "4. Trade-offs in Dynamic Resizing:\n",
    "\n",
    "Dynamic resizing of a hash table (to maintain a low load factor) is essential for performance but can lead to occasional performance hits during the rehashing process. In high-performance systems, understanding and tuning these behaviors (or even implementing custom hash tables) might be necessary."
   ]
  }
 ],
 "metadata": {
  "kernelspec": {
   "display_name": "Python 3",
   "language": "python",
   "name": "python3"
  },
  "language_info": {
   "codemirror_mode": {
    "name": "ipython",
    "version": 3
   },
   "file_extension": ".py",
   "mimetype": "text/x-python",
   "name": "python",
   "nbconvert_exporter": "python",
   "pygments_lexer": "ipython3",
   "version": "3.11.9"
  }
 },
 "nbformat": 4,
 "nbformat_minor": 2
}
