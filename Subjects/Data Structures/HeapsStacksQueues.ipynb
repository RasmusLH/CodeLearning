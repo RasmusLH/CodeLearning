{
 "cells": [
  {
   "cell_type": "markdown",
   "metadata": {},
   "source": [
    "### Heaps\n",
    "\n",
    "A heap is specialized tree-based structures that satisfies the heap property. In a min-heap, each parent node is less than or equal to its children; in a max-heap, eahc parent is greater than or equal to its children. The most commom applications are in implementing priority queues and algorithms like heapsort."
   ]
  },
  {
   "cell_type": "code",
   "execution_count": 2,
   "metadata": {},
   "outputs": [
    {
     "name": "stdout",
     "output_type": "stream",
     "text": [
      "Heap [5, 10, 8]\n",
      "Popped: 5\n",
      "Heap after pop: [8, 10]\n"
     ]
    }
   ],
   "source": [
    "import heapq\n",
    "\n",
    "heap = []\n",
    "\n",
    "# Insert element\n",
    "heapq.heappush(heap, 5)\n",
    "heapq.heappush(heap, 10)\n",
    "heapq.heappush(heap, 8)\n",
    "\n",
    "print(\"Heap\", heap)\n",
    "\n",
    "# Pop the smallest element\n",
    "smallest = heapq.heappop(heap)\n",
    "print(\"Popped:\", smallest)\n",
    "print(\"Heap after pop:\", heap)"
   ]
  },
  {
   "cell_type": "markdown",
   "metadata": {},
   "source": [
    "Max-Heap Trick: Python's heapq only implements a min-heap. To simulate a max-heap, you can store items as their negatives (or use a wrapper object with inverted comparison logic).\n",
    "\n",
    "Memory Layout and Performance: Although heapq is implemented in C and is fast, it only provides the operations you need for a priority queue. If you need more sophisticated operations (like deletion of arbitrary elements), you might have to implement additional logic or use specialized libraries."
   ]
  },
  {
   "cell_type": "code",
   "execution_count": 4,
   "metadata": {},
   "outputs": [
    {
     "name": "stdout",
     "output_type": "stream",
     "text": [
      "Max element: 15\n"
     ]
    }
   ],
   "source": [
    "# Using negatives for a max-heap\n",
    "max_heap = []\n",
    "for item in [10, 5, 15]:\n",
    "    heapq.heappush(max_heap, -item)\n",
    "print(\"Max element:\", -heapq.heappop(max_heap))"
   ]
  },
  {
   "cell_type": "markdown",
   "metadata": {},
   "source": [
    "### Stacks\n",
    "A stack is alast-in first out data structure. The simplest operations are push and pop.\n"
   ]
  },
  {
   "cell_type": "code",
   "execution_count": 5,
   "metadata": {},
   "outputs": [
    {
     "name": "stdout",
     "output_type": "stream",
     "text": [
      "Stack: ['a', 'b', 'c']\n",
      "Popped element: c\n",
      "Stack after pop: ['a', 'b']\n"
     ]
    }
   ],
   "source": [
    "stack = []\n",
    "\n",
    "# Push elements onto the stack\n",
    "stack.append('a')\n",
    "stack.append('b')\n",
    "stack.append('c')\n",
    "\n",
    "print(\"Stack:\", stack)\n",
    "\n",
    "# Pop an element\n",
    "top = stack.pop()\n",
    "print(\"Popped element:\", top)\n",
    "print(\"Stack after pop:\", stack)"
   ]
  },
  {
   "cell_type": "markdown",
   "metadata": {},
   "source": [
    "### Queues\n",
    "A queue is a first-in, first-out (FIFO) structure, where elements are added at one end and removed from the other."
   ]
  },
  {
   "cell_type": "code",
   "execution_count": 8,
   "metadata": {},
   "outputs": [
    {
     "name": "stdout",
     "output_type": "stream",
     "text": [
      "Queue: ['first', 'second', 'third']\n",
      "Dequeued element: first\n",
      "Queue after dequeue: ['second', 'third']\n"
     ]
    }
   ],
   "source": [
    "from collections import deque\n",
    "\n",
    "queue = deque()\n",
    "\n",
    "# Enqueue elements\n",
    "queue.append('first')\n",
    "queue.append('second')\n",
    "queue.append('third')\n",
    "\n",
    "print(\"Queue:\", list(queue))\n",
    "\n",
    "# Dequeue an element\n",
    "first = queue.popleft()\n",
    "print(\"Dequeued element:\", first)\n",
    "print(\"Queue after dequeue:\", list(queue))"
   ]
  },
  {
   "cell_type": "code",
   "execution_count": 9,
   "metadata": {},
   "outputs": [
    {
     "name": "stdout",
     "output_type": "stream",
     "text": [
      "first\n"
     ]
    }
   ],
   "source": [
    "# Alternative queue\n",
    "from queue import Queue\n",
    "\n",
    "q = Queue()\n",
    "q.put('first')\n",
    "q.put('second')\n",
    "print(q.get())  # Blocks until an item is available, thread-safe.\n"
   ]
  },
  {
   "cell_type": "markdown",
   "metadata": {},
   "source": [
    "Heaps:\n",
    "Use the heapq module for priority queues. Remember, if you need a max-heap, invert your values.\n",
    "\n",
    "Stacks:\n",
    "Python lists offer an efficient and straightforward stack implementation using append() and pop(). For thread-safe applications, consider alternatives like queue.LifoQueue.\n",
    "\n",
    "Queues:\n",
    "Prefer collections.deque for fast FIFO operations; it’s efficient and intuitive. For multi-threaded scenarios, use queue.Queue.\n",
    "\n",
    "Understanding these data structures in Python isn’t just about knowing which module to use—it’s also about recognizing their performance characteristics, trade-offs, and the underlying principles that make them work efficiently. This awareness can help you choose the right tool for your application’s needs, even if that means sometimes opting for a non-obvious solution to sidestep inherent limitations."
   ]
  }
 ],
 "metadata": {
  "kernelspec": {
   "display_name": "Python 3",
   "language": "python",
   "name": "python3"
  },
  "language_info": {
   "codemirror_mode": {
    "name": "ipython",
    "version": 3
   },
   "file_extension": ".py",
   "mimetype": "text/x-python",
   "name": "python",
   "nbconvert_exporter": "python",
   "pygments_lexer": "ipython3",
   "version": "3.11.9"
  }
 },
 "nbformat": 4,
 "nbformat_minor": 2
}
