{
 "cells": [
  {
   "cell_type": "markdown",
   "metadata": {},
   "source": [
    "### Arrays and Linked Lists\n",
    "\n",
    "Data structures are specific format for storing accecsing and organization data.\n",
    "\n",
    "Arrays are the most simple and most used way of storing data. They have a fix number for values(fixed length). They only consist of one data type, which is defined when creating it. Elements are indexed."
   ]
  },
  {
   "cell_type": "code",
   "execution_count": 4,
   "metadata": {},
   "outputs": [
    {
     "name": "stdout",
     "output_type": "stream",
     "text": [
      "array('d', [1.2, 1.4, 4.2, 30.1])\n"
     ]
    }
   ],
   "source": [
    "import array as arr\n",
    "\n",
    "a = arr.array('d', [1.2, 1.4, 4.2, 30.1])\n",
    "print(a)"
   ]
  },
  {
   "cell_type": "markdown",
   "metadata": {},
   "source": [
    "1. Every element in the array must be of the same type.\n",
    "2. They use less memory compared to lists when storing large numbers of homogeneous data.\n",
    "3. They have limited functionality and support a subset of list operations.\n",
    "\n",
    "For numerical and scientific computing, the NumPy library is the de facto standard. It introduces the ndarrary object which is far mor powerful and efficient for numerical operations than python lists."
   ]
  },
  {
   "cell_type": "code",
   "execution_count": 5,
   "metadata": {},
   "outputs": [
    {
     "name": "stdout",
     "output_type": "stream",
     "text": [
      "[1 2 3 4]\n"
     ]
    }
   ],
   "source": [
    "import numpy as np\n",
    "\n",
    "np_array = np.array([1, 2, 3, 4])\n",
    "print(np_array)"
   ]
  },
  {
   "cell_type": "markdown",
   "metadata": {},
   "source": [
    "Linked list are a linear data structure where each elemint is a separate object. You have to access the data sequential. Each element or node contains a value and a reference(link) to the next node in the sequence. This design can offer benefits in certain scenarious, such as efficient insertions and deletions but comes with its own trade-offs, e.g. no direct indexing an dpotential overhead due to extra memory for pointers."
   ]
  },
  {
   "cell_type": "markdown",
   "metadata": {},
   "source": [
    "If you require a more classical linked list implementation (for educational purposes or a specific requirement), there are third-party packages available. One example is the llist module, which provides implementations for singly and doubly linked lists:"
   ]
  },
  {
   "cell_type": "code",
   "execution_count": 8,
   "metadata": {},
   "outputs": [
    {
     "name": "stdout",
     "output_type": "stream",
     "text": [
      "Collecting llist\n",
      "  Using cached llist-0.7.1.tar.gz (42 kB)\n",
      "  Installing build dependencies: started\n",
      "  Installing build dependencies: finished with status 'done'\n",
      "  Getting requirements to build wheel: started\n",
      "  Getting requirements to build wheel: finished with status 'done'\n",
      "  Preparing metadata (pyproject.toml): started\n",
      "  Preparing metadata (pyproject.toml): finished with status 'done'\n",
      "Building wheels for collected packages: llist\n",
      "  Building wheel for llist (pyproject.toml): started\n",
      "  Building wheel for llist (pyproject.toml): finished with status 'error'\n",
      "Failed to build llist\n"
     ]
    },
    {
     "name": "stderr",
     "output_type": "stream",
     "text": [
      "  error: subprocess-exited-with-error\n",
      "  \n",
      "  × Building wheel for llist (pyproject.toml) did not run successfully.\n",
      "  │ exit code: 1\n",
      "  ╰─> [1 lines of output]\n",
      "      error: Microsoft Visual C++ 14.0 or greater is required. Get it with \"Microsoft C++ Build Tools\": https://visualstudio.microsoft.com/visual-cpp-build-tools/\n",
      "      [end of output]\n",
      "  \n",
      "  note: This error originates from a subprocess, and is likely not a problem with pip.\n",
      "  ERROR: Failed building wheel for llist\n",
      "\n",
      "[notice] A new release of pip is available: 24.3 -> 25.0\n",
      "[notice] To update, run: C:\\Users\\rasmu\\AppData\\Local\\Microsoft\\WindowsApps\\PythonSoftwareFoundation.Python.3.11_qbz5n2kfra8p0\\python.exe -m pip install --upgrade pip\n",
      "ERROR: ERROR: Failed to build installable wheels for some pyproject.toml based projects (llist)\n"
     ]
    }
   ],
   "source": [
    "!pip install llist"
   ]
  },
  {
   "cell_type": "code",
   "execution_count": 10,
   "metadata": {},
   "outputs": [
    {
     "ename": "ModuleNotFoundError",
     "evalue": "No module named 'llist'",
     "output_type": "error",
     "traceback": [
      "\u001b[1;31m---------------------------------------------------------------------------\u001b[0m",
      "\u001b[1;31mModuleNotFoundError\u001b[0m                       Traceback (most recent call last)",
      "Cell \u001b[1;32mIn[10], line 4\u001b[0m\n\u001b[0;32m      1\u001b[0m \u001b[38;5;66;03m# First, install the module via pip:\u001b[39;00m\n\u001b[0;32m      2\u001b[0m \u001b[38;5;66;03m# pip install llist\u001b[39;00m\n\u001b[1;32m----> 4\u001b[0m \u001b[38;5;28;01mfrom\u001b[39;00m \u001b[38;5;21;01mllist\u001b[39;00m \u001b[38;5;28;01mimport\u001b[39;00m sllist\n\u001b[0;32m      6\u001b[0m \u001b[38;5;66;03m# Create a singly linked list\u001b[39;00m\n\u001b[0;32m      7\u001b[0m my_list \u001b[38;5;241m=\u001b[39m sllist(\u001b[38;5;28mrange\u001b[39m(\u001b[38;5;241m5\u001b[39m))\n",
      "\u001b[1;31mModuleNotFoundError\u001b[0m: No module named 'llist'"
     ]
    }
   ],
   "source": [
    "# First, install the module via pip:\n",
    "# pip install llist\n",
    "\n",
    "from llist import sllist\n",
    "\n",
    "# Create a singly linked list\n",
    "my_list = sllist(range(5))\n",
    "print(list(my_list))  # Outputs: [0, 1, 2, 3, 4]"
   ]
  }
 ],
 "metadata": {
  "kernelspec": {
   "display_name": "Python 3",
   "language": "python",
   "name": "python3"
  },
  "language_info": {
   "codemirror_mode": {
    "name": "ipython",
    "version": 3
   },
   "file_extension": ".py",
   "mimetype": "text/x-python",
   "name": "python",
   "nbconvert_exporter": "python",
   "pygments_lexer": "ipython3",
   "version": "3.11.9"
  }
 },
 "nbformat": 4,
 "nbformat_minor": 2
}
