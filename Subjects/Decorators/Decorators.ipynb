{
 "cells": [
  {
   "cell_type": "markdown",
   "metadata": {},
   "source": [
    "### Decorators\n",
    "\n",
    "This is a design pattern that allows a user to add new functionality to an existing object without modifying its structure. Decorators are usually called before the definition of a function you want to decorate."
   ]
  },
  {
   "cell_type": "code",
   "execution_count": 6,
   "metadata": {},
   "outputs": [
    {
     "name": "stdout",
     "output_type": "stream",
     "text": [
      "Something is happening before the function is called.\n",
      "Hello\n",
      "Something is happening after the function is called.\n"
     ]
    }
   ],
   "source": [
    "# Example\n",
    "def simple_decorator(func):\n",
    "    def wrapper():\n",
    "        print(\"Something is happening before the function is called.\")\n",
    "        func()\n",
    "        print(\"Something is happening after the function is called.\")\n",
    "    return wrapper\n",
    "\n",
    "@simple_decorator\n",
    "def greet():\n",
    "    print(\"Hello\")\n",
    "\n",
    "greet()"
   ]
  },
  {
   "cell_type": "markdown",
   "metadata": {},
   "source": [
    "In this example the wrapper function is a closure. It retains access to the function being decorated and any additional state or arguments defined in the decorator.\n",
    "\n",
    "Its \"remembers\" the greet function and adds behavior before and after its execution"
   ]
  },
  {
   "cell_type": "code",
   "execution_count": 7,
   "metadata": {},
   "outputs": [],
   "source": [
    "# Another example\n",
    "def uppercase_decorator(function):\n",
    "    def wrapper():\n",
    "        func = function()\n",
    "        make_uppercase = func.upper()\n",
    "        return make_uppercase\n",
    "\n",
    "    return wrapper"
   ]
  },
  {
   "cell_type": "code",
   "execution_count": 8,
   "metadata": {},
   "outputs": [
    {
     "name": "stdout",
     "output_type": "stream",
     "text": [
      "HELLO THERE\n"
     ]
    }
   ],
   "source": [
    "def say_hi():\n",
    "    return 'hello there'\n",
    "\n",
    "decorate = uppercase_decorator(say_hi)\n",
    "print(decorate())"
   ]
  },
  {
   "cell_type": "markdown",
   "metadata": {},
   "source": [
    "Here we define a function and pass it to our decorator. Like asigning a function to a variable. However, the @ symple way is much easier to use.\n",
    "\n",
    "You can also apply multiple decorators to a single function."
   ]
  },
  {
   "cell_type": "code",
   "execution_count": 9,
   "metadata": {},
   "outputs": [],
   "source": [
    "import functools\n",
    "def split_string(function):\n",
    "    @functools.wraps(function)\n",
    "    def wrapper():\n",
    "        func = function()\n",
    "        splittet_string = func.split()\n",
    "        return splittet_string\n",
    "    \n",
    "    return wrapper"
   ]
  },
  {
   "cell_type": "code",
   "execution_count": 10,
   "metadata": {},
   "outputs": [
    {
     "data": {
      "text/plain": [
       "['HELLO', 'THERE']"
      ]
     },
     "execution_count": 10,
     "metadata": {},
     "output_type": "execute_result"
    }
   ],
   "source": [
    "@split_string\n",
    "@uppercase_decorator\n",
    "def say_hi():\n",
    "    return 'hello there'\n",
    "\n",
    "say_hi()"
   ]
  },
  {
   "cell_type": "markdown",
   "metadata": {},
   "source": [
    "Application of decorators is from bottom up. Had it been otherwise we would have gotten an error since lists dont have an upper attribute.\n",
    "\n",
    "When stacking decorators, it's a common practice to use functools.wraps to ensure that the metadata of the original function is preserved throughout the stacking process. This helps maintain clarity and consistency in debugging and understanding the properties of the decorated function."
   ]
  },
  {
   "cell_type": "markdown",
   "metadata": {},
   "source": [
    "Furthermore, we might have to accept arguments in decorator function. Here we passs the arguments to the wrapper function."
   ]
  },
  {
   "cell_type": "code",
   "execution_count": 11,
   "metadata": {},
   "outputs": [
    {
     "name": "stdout",
     "output_type": "stream",
     "text": [
      "My arguments are: Nairobi, Accra\n",
      "Cities I love are Nairobi and Accra\n"
     ]
    }
   ],
   "source": [
    "def decorator_with_args(function):\n",
    "    def wrapper(arg1, arg2):\n",
    "        print(\"My arguments are: {0}, {1}\".format(arg1, arg2))\n",
    "        function(arg1, arg2)\n",
    "    return wrapper\n",
    "\n",
    "@decorator_with_args\n",
    "def cities(city_one, city_two):\n",
    "    print(\"Cities I love are {0} and {1}\".format(city_one, city_two))\n",
    "\n",
    "cities(\"Nairobi\", \"Accra\")"
   ]
  }
 ],
 "metadata": {
  "kernelspec": {
   "display_name": "Python 3",
   "language": "python",
   "name": "python3"
  },
  "language_info": {
   "codemirror_mode": {
    "name": "ipython",
    "version": 3
   },
   "file_extension": ".py",
   "mimetype": "text/x-python",
   "name": "python",
   "nbconvert_exporter": "python",
   "pygments_lexer": "ipython3",
   "version": "3.11.9"
  }
 },
 "nbformat": 4,
 "nbformat_minor": 2
}
