{
 "cells": [
  {
   "cell_type": "code",
   "execution_count": null,
   "metadata": {},
   "outputs": [],
   "source": [
    "# Example: Reading a file into bytearray, modifying, then saving\n",
    "\n",
    "with open(\"input.bin\", \"rb\") as f:\n",
    "    data = bytearray(f.read())  # mutable version of file contents\n",
    "\n",
    "# Let's say we want to zero out the first 10 bytes\n",
    "for i in range(10):\n",
    "    data[i] = 0\n",
    "\n",
    "# Now we can write it out\n",
    "with open(\"output.bin\", \"wb\") as f:\n",
    "    f.write(data)\n"
   ]
  },
  {
   "cell_type": "code",
   "execution_count": null,
   "metadata": {},
   "outputs": [],
   "source": [
    "# Example: Using memoryview for partial write without extra slice copies\n",
    "\n",
    "large_data = bytearray(range(256))  # 256 bytes: 0..255\n",
    "mv = memoryview(large_data)\n",
    "\n",
    "# Suppose we only need to send bytes 100..200 over a socket\n",
    "start, end = 100, 200\n",
    "data_chunk = mv[start:end]\n",
    "\n",
    "# data_chunk is a memoryview referencing large_data[100..200]\n",
    "# We can pass data_chunk directly to a send function without copying\n",
    "# e.g., sock.send(data_chunk)\n"
   ]
  },
  {
   "cell_type": "markdown",
   "metadata": {},
   "source": [
    "### Final Tips and Summary\n",
    "1. bytes: Immutable sequences of integers [0..255].\n",
    "2. bytearray: Mutable version of bytes, allowing in-place modification.\n",
    "3. memoryview: Provides a shared, zero-copy slice or view into existing binary data, ideal for large or performance-critical operations.\n",
    "\n",
    "By understanding these three data types, you can handle binary data in Python more effectively, whether you’re dealing with files, network communication, image data, or any other scenario that requires manipulation at the byte level."
   ]
  }
 ],
 "metadata": {
  "kernelspec": {
   "display_name": "Python 3",
   "language": "python",
   "name": "python3"
  },
  "language_info": {
   "codemirror_mode": {
    "name": "ipython",
    "version": 3
   },
   "file_extension": ".py",
   "mimetype": "text/x-python",
   "name": "python",
   "nbconvert_exporter": "python",
   "pygments_lexer": "ipython3",
   "version": "3.11.9"
  }
 },
 "nbformat": 4,
 "nbformat_minor": 2
}
