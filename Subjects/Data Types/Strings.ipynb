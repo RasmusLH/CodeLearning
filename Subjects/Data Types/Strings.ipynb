{
 "cells": [
  {
   "cell_type": "markdown",
   "metadata": {},
   "source": [
    "Text data types include strings\n",
    "Strings are: Ordered, immutable, text representation\n",
    "\n",
    "### Common Pitfalls and Tips\n",
    "1. Off-By-One Errors in Slicing\n",
    "Remember that the end index is exclusive. s[0:5] includes indices 0,1,2,3,4.\n",
    "\n",
    "2. Immutability\n",
    "Strings cannot be changed in-place. This means slicing, concatenation, and string methods return new strings.\n",
    "\n",
    "3. Watch Out for Trailing Newlines\n",
    "When reading lines from a file or user input, you might get a trailing newline (\\n). Use strip() to remove it.\n",
    "\n",
    "4. Performance Considerations\n",
    "Repeatedly concatenating strings (in a loop) can be slow. Use lists or io.StringIO if you need to build a large string in a loop.\n",
    "\n",
    "5. Raw Strings\n",
    "Raw strings can simplify handling of backslashes (e.g., Windows file paths). But note that raw strings can’t end with an odd number of backslashes."
   ]
  },
  {
   "cell_type": "code",
   "execution_count": 1,
   "metadata": {},
   "outputs": [
    {
     "name": "stdout",
     "output_type": "stream",
     "text": [
      "string\n"
     ]
    }
   ],
   "source": [
    "a = \"string\"\n",
    "print(a)"
   ]
  },
  {
   "cell_type": "code",
   "execution_count": 2,
   "metadata": {},
   "outputs": [
    {
     "name": "stdout",
     "output_type": "stream",
     "text": [
      "this is a long\n",
      "string that spans multiple lines\n"
     ]
    }
   ],
   "source": [
    "# Triple quotes can be used to span the string across multiple lines.\n",
    "b = \"\"\"this is a long\n",
    "string that spans multiple lines\"\"\"\n",
    "print(b)"
   ]
  },
  {
   "cell_type": "code",
   "execution_count": 3,
   "metadata": {},
   "outputs": [
    {
     "name": "stdout",
     "output_type": "stream",
     "text": [
      "A\n",
      "!\n"
     ]
    }
   ],
   "source": [
    "# Indexing\n",
    "a = \"A little string!\"\n",
    "first_char = a[0]\n",
    "last_char = a[-1]\n",
    "\n",
    "print(first_char)\n",
    "print(last_char)"
   ]
  },
  {
   "cell_type": "code",
   "execution_count": 7,
   "metadata": {},
   "outputs": [
    {
     "name": "stdout",
     "output_type": "stream",
     "text": [
      "('Py', 'thon', 'Pyth', 'Pto', 'hon')\n"
     ]
    }
   ],
   "source": [
    "# Slicing\n",
    "text = \"Python\"\n",
    "sub1 = text[0:2]          # 'Py'\n",
    "sub2 = text[2:]           # 'thon'\n",
    "sub3 = text[:4]           # 'Pyth'\n",
    "sub4 = text[::2]          # 'Pto'  (take every second character)\n",
    "sub5 = text[-3:]          # 'hon'  (slice from the third-last to the end)\n",
    "\n",
    "print((sub1, sub2, sub3, sub4, sub5))"
   ]
  },
  {
   "cell_type": "code",
   "execution_count": 8,
   "metadata": {},
   "outputs": [
    {
     "name": "stdout",
     "output_type": "stream",
     "text": [
      "Hello, World!\n"
     ]
    }
   ],
   "source": [
    "# Concatination\n",
    "greeting = \"Hello, \" + \"World!\"\n",
    "print(greeting)"
   ]
  },
  {
   "cell_type": "code",
   "execution_count": 10,
   "metadata": {},
   "outputs": [
    {
     "name": "stdout",
     "output_type": "stream",
     "text": [
      "HaHaHa\n",
      "hahaha\n"
     ]
    }
   ],
   "source": [
    "# Repetition\n",
    "\n",
    "a = \"Ha\" * 3\n",
    "print(a)\n",
    "b = \"ha\"\n",
    "print(b * 3)"
   ]
  },
  {
   "cell_type": "code",
   "execution_count": 11,
   "metadata": {},
   "outputs": [
    {
     "name": "stdout",
     "output_type": "stream",
     "text": [
      "6\n",
      "hello!\n",
      "HELLO!\n",
      "True\n",
      "True\n",
      "['He', '', 'o!']\n",
      "Herro!\n"
     ]
    }
   ],
   "source": [
    "# Common string methods\n",
    "a = \"Hello!\"\n",
    "print(len(a))  # 6\n",
    "print(a.lower())  # \"hello!\"\n",
    "print(a.upper())  # \"HELLO!\"\n",
    "print(a.startswith(\"H\"))  # True\n",
    "print(a.endswith(\"!\"))  # True\n",
    "print(a.split(\"l\"))  # ['He', '', 'o!']\n",
    "print(a.replace(\"l\", \"r\"))  # \"Herro!\""
   ]
  },
  {
   "cell_type": "code",
   "execution_count": 12,
   "metadata": {},
   "outputs": [
    {
     "name": "stdout",
     "output_type": "stream",
     "text": [
      "Hello, Alice! You are 25 years old.\n"
     ]
    }
   ],
   "source": [
    "# F-strings\n",
    "name = \"Alice\"\n",
    "age = 25\n",
    "print(f\"Hello, {name}! You are {age} years old.\")"
   ]
  },
  {
   "cell_type": "code",
   "execution_count": 14,
   "metadata": {},
   "outputs": [
    {
     "name": "stdout",
     "output_type": "stream",
     "text": [
      "The area is 200.\n"
     ]
    }
   ],
   "source": [
    "width, height = 10, 20\n",
    "area = f\"The area is {width * height}.\"\n",
    "print(area)\n"
   ]
  },
  {
   "cell_type": "code",
   "execution_count": 15,
   "metadata": {},
   "outputs": [
    {
     "name": "stdout",
     "output_type": "stream",
     "text": [
      "Pi rounded to 2 decimals: 3.14\n"
     ]
    }
   ],
   "source": [
    "pi = 3.14159\n",
    "formatted_pi = f\"Pi rounded to 2 decimals: {pi:.2f}\"\n",
    "print(formatted_pi)\n"
   ]
  },
  {
   "cell_type": "code",
   "execution_count": 16,
   "metadata": {},
   "outputs": [
    {
     "name": "stdout",
     "output_type": "stream",
     "text": [
      "['M', 'e', 'l', 'l', 'o', 'o', 'r']\n"
     ]
    }
   ],
   "source": [
    "a = \"Morello\"\n",
    "b = sorted(a)\n",
    "print(b)"
   ]
  },
  {
   "cell_type": "code",
   "execution_count": 17,
   "metadata": {},
   "outputs": [
    {
     "name": "stdout",
     "output_type": "stream",
     "text": [
      "nohtyP\n"
     ]
    }
   ],
   "source": [
    "# Reverse a string by giving it negative step\n",
    "reversed_string = \"Python\"[::-1]  # \"nohtyP\"\n",
    "print(reversed_string)"
   ]
  }
 ],
 "metadata": {
  "kernelspec": {
   "display_name": "Python 3",
   "language": "python",
   "name": "python3"
  },
  "language_info": {
   "codemirror_mode": {
    "name": "ipython",
    "version": 3
   },
   "file_extension": ".py",
   "mimetype": "text/x-python",
   "name": "python",
   "nbconvert_exporter": "python",
   "pygments_lexer": "ipython3",
   "version": "3.11.9"
  }
 },
 "nbformat": 4,
 "nbformat_minor": 2
}
