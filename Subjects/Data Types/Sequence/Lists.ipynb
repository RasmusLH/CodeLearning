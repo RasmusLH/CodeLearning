{
 "cells": [
  {
   "cell_type": "markdown",
   "metadata": {},
   "source": [
    "List are mutable, ordered collection of items\n",
    "1. Use a list if you:\n",
    "    1. Need to store an ordered sequence of items.\n",
    "    2. Need to modify (add/remove/change) elements frequently at any position.\n",
    "2. Maybe consider a tuple if you need an immutable sequence.\n",
    "3. Maybe consider dict or set if you need fast lookups and uniqueness checks.\n",
    "4. deque (from collections) can be useful if you need fast appends/pops from   both ends.\n",
    "5. Key Methods: append(), pop(), remove(), sort(), reverse()."
   ]
  },
  {
   "cell_type": "code",
   "execution_count": 1,
   "metadata": {},
   "outputs": [
    {
     "name": "stdout",
     "output_type": "stream",
     "text": [
      "[1, 3, 6, 'nice', 23.5]\n"
     ]
    }
   ],
   "source": [
    "a = [1, 3, 6, \"nice\", 23.5]\n",
    "b = list((1, 3, 6, \"nice\", 23.5)) # list() is a constructo  r\n",
    "print(a)"
   ]
  },
  {
   "cell_type": "code",
   "execution_count": 2,
   "metadata": {},
   "outputs": [],
   "source": [
    "empty = []\n",
    "empty = list()"
   ]
  },
  {
   "cell_type": "code",
   "execution_count": 3,
   "metadata": {},
   "outputs": [
    {
     "name": "stdout",
     "output_type": "stream",
     "text": [
      "10\n",
      "50\n"
     ]
    }
   ],
   "source": [
    "numbers = [10, 20, 30, 40, 50]\n",
    "print(numbers[0])\n",
    "print(numbers[-1])"
   ]
  },
  {
   "cell_type": "code",
   "execution_count": 5,
   "metadata": {},
   "outputs": [
    {
     "name": "stdout",
     "output_type": "stream",
     "text": [
      "[20, 30]\n",
      "[10, 20, 30]\n",
      "[30, 40, 50]\n",
      "[10, 30, 50]\n"
     ]
    }
   ],
   "source": [
    "print(numbers[1:3])    # [20, 30] (indices 1,2)\n",
    "print(numbers[:3])     # [10, 20, 30] (start defaults to 0)\n",
    "print(numbers[2:])     # [30, 40, 50] (end defaults to end of list)\n",
    "print(numbers[::2])    # [10, 30, 50] (take every 2nd element)"
   ]
  },
  {
   "cell_type": "code",
   "execution_count": 12,
   "metadata": {},
   "outputs": [
    {
     "name": "stdout",
     "output_type": "stream",
     "text": [
      "[1, 2, 3, 4]\n"
     ]
    }
   ],
   "source": [
    "# Adding elements\n",
    "my_list = [1, 2, 3]\n",
    "my_list.append(4)\n",
    "print(my_list) # [1, 2, 3, 4]"
   ]
  },
  {
   "cell_type": "code",
   "execution_count": 13,
   "metadata": {},
   "outputs": [
    {
     "name": "stdout",
     "output_type": "stream",
     "text": [
      "[1, 'new', 2, 3, 4]\n"
     ]
    }
   ],
   "source": [
    "# Insert  item on specific index\n",
    "my_list.insert(1, \"new\")\n",
    "print(my_list) # [1, 'new', 2, 3, 4)"
   ]
  },
  {
   "cell_type": "code",
   "execution_count": 14,
   "metadata": {},
   "outputs": [
    {
     "name": "stdout",
     "output_type": "stream",
     "text": [
      "[1, 'new', 2, 3, 4, 5, 6, 7]\n"
     ]
    }
   ],
   "source": [
    "# Extend list with another list\n",
    "list_2 = [5, 6, 7]\n",
    "my_list.extend(list_2)\n",
    "print(my_list) # [1, 'new', 2, 3, 4, 5, 6, 7]"
   ]
  },
  {
   "cell_type": "code",
   "execution_count": 15,
   "metadata": {},
   "outputs": [
    {
     "name": "stdout",
     "output_type": "stream",
     "text": [
      "[1, 2, 3, 4, 5, 6, 7]\n",
      "7\n",
      "[2, 3, 4, 5, 6]\n"
     ]
    }
   ],
   "source": [
    "# removing and deleting items\n",
    "my_list.remove(\"new\")  # [1, 2, 3, 4, 5, 6]\n",
    "print(my_list)\n",
    "popped = my_list.pop() # [1, 2, 3, 4, 5]\n",
    "print(popped)\n",
    "del my_list[0]         # [2, 3, 4, 5]\n",
    "print(my_list)\n",
    "my_list.clear()        # []\n",
    "\n"
   ]
  },
  {
   "cell_type": "code",
   "execution_count": 17,
   "metadata": {},
   "outputs": [
    {
     "name": "stdout",
     "output_type": "stream",
     "text": [
      "[1, 'two', 'two', 'three', 5]\n"
     ]
    }
   ],
   "source": [
    "list_1 = [1, 2, 3, 4, 5]\n",
    "\n",
    "list_1[1] = \"two\"\n",
    "\n",
    "list_1[2:4] = [\"two\", \"three\"]\n",
    "\n",
    "print(list_1) # [1, 'two', 'two', 'three', 5]"
   ]
  },
  {
   "cell_type": "code",
   "execution_count": 19,
   "metadata": {},
   "outputs": [
    {
     "name": "stdout",
     "output_type": "stream",
     "text": [
      "[1, 2, 3]\n",
      "[1, 2, 3]\n"
     ]
    }
   ],
   "source": [
    "# Common list methods\n",
    "\n",
    "# list.index(value[, start[, stop]]) # returns index of first occurence of value\n",
    "fruits = [\"apple\", \"banana\", \"cherry\"]\n",
    "idx = fruits.index(\"banana\")  # 1\n",
    "\n",
    "[1, 1, 2].count(1)  # 2\n",
    "\n",
    "numbers = [3, 1, 2]\n",
    "numbers.sort()\n",
    "print(numbers)  # [1, 2, 3]\n",
    "\n",
    "words = [\"apple\", \"banana\", \"cherry\"]\n",
    "words.sort(key=len)  # sort by length\n",
    "\n",
    "new_sorted_list = sorted(numbers)\n",
    "print(new_sorted_list)  # [1, 2, 3]\n"
   ]
  },
  {
   "cell_type": "code",
   "execution_count": 21,
   "metadata": {},
   "outputs": [
    {
     "name": "stdout",
     "output_type": "stream",
     "text": [
      "[[1, 2, 3, 4, 5], [1, 4, 9, 16, 25], [4, 16]]\n"
     ]
    }
   ],
   "source": [
    "# List comprehension\n",
    "numbers = [1, 2, 3, 4, 5]\n",
    "squares = [x*x for x in numbers]  # [1, 4, 9, 16, 25]\n",
    "even_squares = [x*x for x in numbers if x % 2 == 0]  # [4, 16]\n",
    "print([numbers, squares, even_squares])\n"
   ]
  },
  {
   "cell_type": "code",
   "execution_count": null,
   "metadata": {},
   "outputs": [],
   "source": []
  }
 ],
 "metadata": {
  "kernelspec": {
   "display_name": "Python 3",
   "language": "python",
   "name": "python3"
  },
  "language_info": {
   "codemirror_mode": {
    "name": "ipython",
    "version": 3
   },
   "file_extension": ".py",
   "mimetype": "text/x-python",
   "name": "python",
   "nbconvert_exporter": "python",
   "pygments_lexer": "ipython3",
   "version": "3.11.9"
  }
 },
 "nbformat": 4,
 "nbformat_minor": 2
}
