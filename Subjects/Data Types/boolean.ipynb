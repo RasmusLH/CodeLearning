{
 "cells": [
  {
   "cell_type": "markdown",
   "metadata": {},
   "source": [
    "### Booleans\n",
    "A data type with ony two possible values: True or False\n",
    "They are used to represent the truth value of an expression or condition\n",
    "\n",
    "1. Conditionals (if, else, elif)\n",
    "2. Loops (while, for with condition checks)\n",
    "3. Error Handling (checking if some condition is met before proceeding)\n",
    "4. Filtering in comprehensions (e.g., [x for x in items if some_boolean_condition])."
   ]
  },
  {
   "cell_type": "code",
   "execution_count": 1,
   "metadata": {},
   "outputs": [
    {
     "name": "stdout",
     "output_type": "stream",
     "text": [
      "True\n",
      "False\n"
     ]
    }
   ],
   "source": [
    "print(3 > 2)   # True\n",
    "print(3 == 2)  # False"
   ]
  },
  {
   "cell_type": "code",
   "execution_count": 2,
   "metadata": {},
   "outputs": [
    {
     "name": "stdout",
     "output_type": "stream",
     "text": [
      "False\n",
      "True\n"
     ]
    }
   ],
   "source": [
    "is_raining = True\n",
    "have_umbrella = False\n",
    "print(is_raining and have_umbrella)  # False\n",
    "print(is_raining or have_umbrella)   # True"
   ]
  },
  {
   "cell_type": "code",
   "execution_count": 3,
   "metadata": {},
   "outputs": [
    {
     "name": "stdout",
     "output_type": "stream",
     "text": [
      "Better bring an umbrella!\n"
     ]
    }
   ],
   "source": [
    "if is_raining:\n",
    "    print(\"Better bring an umbrella!\")\n",
    "else:\n",
    "    print(\"No need for an umbrella today.\")"
   ]
  },
  {
   "cell_type": "code",
   "execution_count": 4,
   "metadata": {},
   "outputs": [
    {
     "name": "stdout",
     "output_type": "stream",
     "text": [
      "You are an adult.\n"
     ]
    }
   ],
   "source": [
    "age = 20\n",
    "\n",
    "if age >= 18:\n",
    "    print(\"You are an adult.\")\n",
    "else:\n",
    "    print(\"You are a minor.\")\n"
   ]
  },
  {
   "cell_type": "code",
   "execution_count": 6,
   "metadata": {},
   "outputs": [
    {
     "name": "stdout",
     "output_type": "stream",
     "text": [
      "3\n",
      "2\n",
      "1\n"
     ]
    }
   ],
   "source": [
    "counter = 3\n",
    "while counter > 0:\n",
    "    print(counter)\n",
    "    counter -= 1"
   ]
  },
  {
   "cell_type": "code",
   "execution_count": 7,
   "metadata": {},
   "outputs": [
    {
     "name": "stdout",
     "output_type": "stream",
     "text": [
      "False\n",
      "True\n",
      "False\n",
      "True\n",
      "False\n",
      "False\n",
      "True\n",
      "False\n"
     ]
    }
   ],
   "source": [
    "# Boolean casting\n",
    "print(bool(0))        # False\n",
    "print(bool(1))        # True\n",
    "print(bool(\"\"))       # False (empty string)\n",
    "print(bool(\"Hello\"))  # True (non-empty string)\n",
    "print(bool(None))     # False\n",
    "print(bool([]))       # False (empty list)\n",
    "print(bool([1, 2, 3]))  # True (non-empty list)\n",
    "print(bool({}))       # False (empty dictionary)"
   ]
  }
 ],
 "metadata": {
  "kernelspec": {
   "display_name": "Python 3",
   "language": "python",
   "name": "python3"
  },
  "language_info": {
   "codemirror_mode": {
    "name": "ipython",
    "version": 3
   },
   "file_extension": ".py",
   "mimetype": "text/x-python",
   "name": "python",
   "nbconvert_exporter": "python",
   "pygments_lexer": "ipython3",
   "version": "3.11.9"
  }
 },
 "nbformat": 4,
 "nbformat_minor": 2
}
