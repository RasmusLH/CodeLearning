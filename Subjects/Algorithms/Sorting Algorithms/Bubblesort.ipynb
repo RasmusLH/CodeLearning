{
 "cells": [
  {
   "cell_type": "markdown",
   "metadata": {},
   "source": [
    "### Sorting algorithms\n",
    "\n",
    "Sorting is a fundament concept in CS. It involves arranging data in a particular order. Sorting is use in a wide range of applications - Everything from organizaing data more efficiently for searching, to cleaning and preprocessing data for machine learning algorithms."
   ]
  },
  {
   "cell_type": "markdown",
   "metadata": {},
   "source": [
    "One common sorting alrgorithm is the bubble sort. It repeatedly traverses the list, compaperes adjacent items, and swaps them if they are in the wrong order."
   ]
  },
  {
   "cell_type": "code",
   "execution_count": 1,
   "metadata": {},
   "outputs": [],
   "source": [
    "# Example\n",
    "def bubble_sort(arr): # Takes an array as argument\n",
    "    n = len(arr) # Get the length of the array\n",
    "    for i in range(n):\n",
    "        #Track if now swaps happened => array is sorted\n",
    "        swapped = False # Set swapper to False\n",
    "        for j in range(n - i - 1):\n",
    "            if arr[j] > arr[j +1]:\n",
    "                arr[j], arr[j + 1] = arr[j + 1], arr[j]\n",
    "                swapped = True\n",
    "        if not swapped:\n",
    "            break\n",
    "\n",
    "    return arr"
   ]
  },
  {
   "cell_type": "code",
   "execution_count": 3,
   "metadata": {},
   "outputs": [
    {
     "name": "stdout",
     "output_type": "stream",
     "text": [
      "[11, 12, 22, 25, 34, 64, 90]\n"
     ]
    }
   ],
   "source": [
    "my = [64, 34, 25, 12, 22, 11, 90]\n",
    "print(bubble_sort(my)) # Output: [11, 12, 22, 25, 34, 64, 90]"
   ]
  },
  {
   "cell_type": "markdown",
   "metadata": {},
   "source": [
    "## Selection sort\n",
    "\n",
    "Selection sort finds the min or max element from the unsorted portin of the list and places it at the beginning or end of the lists.\n",
    "\n",
    "1. Starts from beginning of list\n",
    "2. Find the smallest element in the unsorted portion of the list\n",
    "3. Swap it with the leftmost unsorted element\n",
    "4. Move the boundary of the unsorted portion to the right"
   ]
  },
  {
   "cell_type": "code",
   "execution_count": null,
   "metadata": {},
   "outputs": [],
   "source": []
  },
  {
   "cell_type": "code",
   "execution_count": 4,
   "metadata": {},
   "outputs": [],
   "source": [
    "def selection_sort(arr):\n",
    "    n = len(arr)\n",
    "    for i in range(n):\n",
    "        min_index = i\n",
    "        for j in range(i + 1, n):\n",
    "            if arr[j] < arr[min_index]:\n",
    "                min_index = j\n",
    "        \n",
    "        arr[i], arr[min_index] = arr[min_index], arr[i]\n",
    "    return arr"
   ]
  },
  {
   "cell_type": "code",
   "execution_count": 5,
   "metadata": {},
   "outputs": [
    {
     "name": "stdout",
     "output_type": "stream",
     "text": [
      "[11, 12, 22, 25, 34, 64, 90]\n"
     ]
    }
   ],
   "source": [
    "print(selection_sort(my)) # Output: [11, 12, 22, 25, 34, 64, 90]"
   ]
  }
 ],
 "metadata": {
  "kernelspec": {
   "display_name": "Python 3",
   "language": "python",
   "name": "python3"
  },
  "language_info": {
   "codemirror_mode": {
    "name": "ipython",
    "version": 3
   },
   "file_extension": ".py",
   "mimetype": "text/x-python",
   "name": "python",
   "nbconvert_exporter": "python",
   "pygments_lexer": "ipython3",
   "version": "3.11.9"
  }
 },
 "nbformat": 4,
 "nbformat_minor": 2
}
