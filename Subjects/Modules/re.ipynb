{
 "cells": [
  {
   "cell_type": "markdown",
   "metadata": {},
   "source": [
    "### Regular expressions\n",
    "\n",
    "a regular expression is a sequence of characters that specifies a search pattern in text. Usually such patterns are used by string searching algorithms for \"find\" or \"find and replace\" operatiosn on strings, or for input validation"
   ]
  },
  {
   "cell_type": "code",
   "execution_count": 3,
   "metadata": {},
   "outputs": [
    {
     "data": {
      "text/plain": [
       "<re.Match object; span=(4, 7), match='cat'>"
      ]
     },
     "execution_count": 3,
     "metadata": {},
     "output_type": "execute_result"
    }
   ],
   "source": [
    "import re\n",
    "re.search(\"cat\", \"The cat sat on the mat\")"
   ]
  },
  {
   "cell_type": "markdown",
   "metadata": {},
   "source": [
    "Its in general a powerful tool, but can quickly become dense and hard to read and maintain. Using str.split or str.find cna in many cases be more efficient.\n",
    "\n",
    "Regex can lead to slowing down an application if not structures correct. Rethinking the problem and breaking it down with simpler logic might be a better approach.\n",
    "\n",
    "Regular expressions in Python are a potent tool for text processing, but they require a balance between power and clarity. Knowing when to use regex and when to opt for simpler string operations is a crucial part of effective programming. As with many advanced tools, mastery comes with experience and careful consideration of readability and performance trade-offs."
   ]
  }
 ],
 "metadata": {
  "kernelspec": {
   "display_name": "Python 3",
   "language": "python",
   "name": "python3"
  },
  "language_info": {
   "codemirror_mode": {
    "name": "ipython",
    "version": 3
   },
   "file_extension": ".py",
   "mimetype": "text/x-python",
   "name": "python",
   "nbconvert_exporter": "python",
   "pygments_lexer": "ipython3",
   "version": "3.11.9"
  }
 },
 "nbformat": 4,
 "nbformat_minor": 2
}
