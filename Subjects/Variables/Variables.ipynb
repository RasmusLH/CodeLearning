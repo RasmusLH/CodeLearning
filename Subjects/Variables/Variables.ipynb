{
 "cells": [
  {
   "cell_type": "markdown",
   "metadata": {},
   "source": [
    "### Variables\n",
    "Variables in python is a name that i bound to a piece of data(an object). You dont need to declare the type of a variable before using it\n",
    "Python automatically knows the type based on the value assigned."
   ]
  },
  {
   "cell_type": "markdown",
   "metadata": {},
   "source": [
    "## Best practises\n",
    "1. Use meaningful names: count, user_name, total_price are more descriptive than single-letter names like x or y.\n",
    "2. Follow PEP 8 naming conventions:\n",
    "* Use lowercase words with underscores for normal variables (my_variable).\n",
    "* Use uppercase letters with underscores for constants (MAX_SIZE = 100).\n",
    "* See PEP 8 – Style Guide for Python Code for more details.\n",
    "3. Avoid reassigning different types to the same variable in the same scope if it makes your code confusing.\n",
    "4. Use clear, explicit names—this helps both you and anyone reading your code."
   ]
  },
  {
   "cell_type": "markdown",
   "metadata": {},
   "source": [
    "## Variable Scope\n",
    "\n",
    "Depending on where you create a variable, it may only be accessible in certain parts of your program.\n",
    "1. Local scope: Variables defined inside a function are local to that function.\n",
    "2. Global scope: variables defined at the top level of a module.\n",
    "3. Enclosed scope: Variables in an outer function that are neither global nor local to the inner function.\n",
    "4. Built in scope: Variables provided by python like len, range, etc.\n",
    "\n"
   ]
  },
  {
   "cell_type": "code",
   "execution_count": 1,
   "metadata": {},
   "outputs": [
    {
     "name": "stdout",
     "output_type": "stream",
     "text": [
      "Inside function: 11\n",
      "Outside: 0\n"
     ]
    }
   ],
   "source": [
    "# Global variable\n",
    "count = 0\n",
    "\n",
    "def increment():\n",
    "    # Local variable (shadows global variable if we try to use the same name)\n",
    "    count = 10\n",
    "    count += 1\n",
    "    print(\"Inside function:\", count)\n",
    "\n",
    "increment()           # Output: Inside function: 11\n",
    "print(\"Outside:\", count)  # Output: Outside: 0\n"
   ]
  },
  {
   "cell_type": "code",
   "execution_count": 2,
   "metadata": {},
   "outputs": [
    {
     "name": "stdout",
     "output_type": "stream",
     "text": [
      "1\n"
     ]
    }
   ],
   "source": [
    "# global and nonlocal keywords\n",
    "count = 0\n",
    "\n",
    "def increment_global():\n",
    "    global count  # Declare we're using the global 'count'\n",
    "    count += 1\n",
    "\n",
    "increment_global()\n",
    "print(count)  # Output: 1"
   ]
  },
  {
   "cell_type": "code",
   "execution_count": 3,
   "metadata": {},
   "outputs": [
    {
     "name": "stdout",
     "output_type": "stream",
     "text": [
      "1\n",
      "2\n"
     ]
    }
   ],
   "source": [
    "# Nonlocal\n",
    "def outer_func():\n",
    "    outer_var = 0\n",
    "\n",
    "    def inner_func():\n",
    "        nonlocal outer_var  # Refer to the 'outer_func' variable\n",
    "        outer_var += 1\n",
    "        return outer_var\n",
    "\n",
    "    print(inner_func())  # 1\n",
    "    print(inner_func())  # 2\n",
    "\n",
    "outer_func()\n"
   ]
  }
 ],
 "metadata": {
  "kernelspec": {
   "display_name": "Python 3",
   "language": "python",
   "name": "python3"
  },
  "language_info": {
   "codemirror_mode": {
    "name": "ipython",
    "version": 3
   },
   "file_extension": ".py",
   "mimetype": "text/x-python",
   "name": "python",
   "nbconvert_exporter": "python",
   "pygments_lexer": "ipython3",
   "version": "3.11.9"
  }
 },
 "nbformat": 4,
 "nbformat_minor": 2
}
